{
 "cells": [
  {
   "cell_type": "markdown",
   "id": "ef1f44ea",
   "metadata": {},
   "source": [
    "#Vẽ scatter plot (mpg và horsepower), nhận xét mối\n",
    "quan hệ giữa 2 đại lượng này"
   ]
  },
  {
   "cell_type": "code",
   "execution_count": 2,
   "id": "3a9d922a",
   "metadata": {},
   "outputs": [
    {
     "ename": "KeyError",
     "evalue": "'horsepower'",
     "output_type": "error",
     "traceback": [
      "\u001b[31m---------------------------------------------------------------------------\u001b[39m",
      "\u001b[31mKeyError\u001b[39m                                  Traceback (most recent call last)",
      "\u001b[36mFile \u001b[39m\u001b[32mc:\\Python313\\Lib\\site-packages\\pandas\\core\\indexes\\base.py:3812\u001b[39m, in \u001b[36mIndex.get_loc\u001b[39m\u001b[34m(self, key)\u001b[39m\n\u001b[32m   3811\u001b[39m \u001b[38;5;28;01mtry\u001b[39;00m:\n\u001b[32m-> \u001b[39m\u001b[32m3812\u001b[39m     \u001b[38;5;28;01mreturn\u001b[39;00m \u001b[38;5;28;43mself\u001b[39;49m\u001b[43m.\u001b[49m\u001b[43m_engine\u001b[49m\u001b[43m.\u001b[49m\u001b[43mget_loc\u001b[49m\u001b[43m(\u001b[49m\u001b[43mcasted_key\u001b[49m\u001b[43m)\u001b[49m\n\u001b[32m   3813\u001b[39m \u001b[38;5;28;01mexcept\u001b[39;00m \u001b[38;5;167;01mKeyError\u001b[39;00m \u001b[38;5;28;01mas\u001b[39;00m err:\n",
      "\u001b[36mFile \u001b[39m\u001b[32mpandas/_libs/index.pyx:167\u001b[39m, in \u001b[36mpandas._libs.index.IndexEngine.get_loc\u001b[39m\u001b[34m()\u001b[39m\n",
      "\u001b[36mFile \u001b[39m\u001b[32mpandas/_libs/index.pyx:196\u001b[39m, in \u001b[36mpandas._libs.index.IndexEngine.get_loc\u001b[39m\u001b[34m()\u001b[39m\n",
      "\u001b[36mFile \u001b[39m\u001b[32mpandas/_libs/hashtable_class_helper.pxi:7088\u001b[39m, in \u001b[36mpandas._libs.hashtable.PyObjectHashTable.get_item\u001b[39m\u001b[34m()\u001b[39m\n",
      "\u001b[36mFile \u001b[39m\u001b[32mpandas/_libs/hashtable_class_helper.pxi:7096\u001b[39m, in \u001b[36mpandas._libs.hashtable.PyObjectHashTable.get_item\u001b[39m\u001b[34m()\u001b[39m\n",
      "\u001b[31mKeyError\u001b[39m: 'horsepower'",
      "\nThe above exception was the direct cause of the following exception:\n",
      "\u001b[31mKeyError\u001b[39m                                  Traceback (most recent call last)",
      "\u001b[36mCell\u001b[39m\u001b[36m \u001b[39m\u001b[32mIn[2]\u001b[39m\u001b[32m, line 5\u001b[39m\n\u001b[32m      2\u001b[39m \u001b[38;5;28;01mimport\u001b[39;00m\u001b[38;5;250m \u001b[39m\u001b[34;01mmatplotlib\u001b[39;00m\u001b[34;01m.\u001b[39;00m\u001b[34;01mpyplot\u001b[39;00m\u001b[38;5;250m \u001b[39m\u001b[38;5;28;01mas\u001b[39;00m\u001b[38;5;250m \u001b[39m\u001b[34;01mplt\u001b[39;00m\n\u001b[32m      3\u001b[39m data = pd.read_csv(\u001b[33m'\u001b[39m\u001b[33mauto-mpg.data\u001b[39m\u001b[33m'\u001b[39m)\n\u001b[32m----> \u001b[39m\u001b[32m5\u001b[39m data[\u001b[33m'\u001b[39m\u001b[33mhorsepower\u001b[39m\u001b[33m'\u001b[39m] = pd.to_numeric(\u001b[43mdata\u001b[49m\u001b[43m[\u001b[49m\u001b[33;43m'\u001b[39;49m\u001b[33;43mhorsepower\u001b[39;49m\u001b[33;43m'\u001b[39;49m\u001b[43m]\u001b[49m, errors=\u001b[33m'\u001b[39m\u001b[33mcoerce\u001b[39m\u001b[33m'\u001b[39m)\n\u001b[32m      6\u001b[39m data = data.dropna(subset=[\u001b[33m'\u001b[39m\u001b[33mhorsepower\u001b[39m\u001b[33m'\u001b[39m, \u001b[33m'\u001b[39m\u001b[33mmpg\u001b[39m\u001b[33m'\u001b[39m])\n\u001b[32m     10\u001b[39m \u001b[38;5;66;03m# Vẽ scatter plot\u001b[39;00m\n",
      "\u001b[36mFile \u001b[39m\u001b[32mc:\\Python313\\Lib\\site-packages\\pandas\\core\\frame.py:4107\u001b[39m, in \u001b[36mDataFrame.__getitem__\u001b[39m\u001b[34m(self, key)\u001b[39m\n\u001b[32m   4105\u001b[39m \u001b[38;5;28;01mif\u001b[39;00m \u001b[38;5;28mself\u001b[39m.columns.nlevels > \u001b[32m1\u001b[39m:\n\u001b[32m   4106\u001b[39m     \u001b[38;5;28;01mreturn\u001b[39;00m \u001b[38;5;28mself\u001b[39m._getitem_multilevel(key)\n\u001b[32m-> \u001b[39m\u001b[32m4107\u001b[39m indexer = \u001b[38;5;28;43mself\u001b[39;49m\u001b[43m.\u001b[49m\u001b[43mcolumns\u001b[49m\u001b[43m.\u001b[49m\u001b[43mget_loc\u001b[49m\u001b[43m(\u001b[49m\u001b[43mkey\u001b[49m\u001b[43m)\u001b[49m\n\u001b[32m   4108\u001b[39m \u001b[38;5;28;01mif\u001b[39;00m is_integer(indexer):\n\u001b[32m   4109\u001b[39m     indexer = [indexer]\n",
      "\u001b[36mFile \u001b[39m\u001b[32mc:\\Python313\\Lib\\site-packages\\pandas\\core\\indexes\\base.py:3819\u001b[39m, in \u001b[36mIndex.get_loc\u001b[39m\u001b[34m(self, key)\u001b[39m\n\u001b[32m   3814\u001b[39m     \u001b[38;5;28;01mif\u001b[39;00m \u001b[38;5;28misinstance\u001b[39m(casted_key, \u001b[38;5;28mslice\u001b[39m) \u001b[38;5;129;01mor\u001b[39;00m (\n\u001b[32m   3815\u001b[39m         \u001b[38;5;28misinstance\u001b[39m(casted_key, abc.Iterable)\n\u001b[32m   3816\u001b[39m         \u001b[38;5;129;01mand\u001b[39;00m \u001b[38;5;28many\u001b[39m(\u001b[38;5;28misinstance\u001b[39m(x, \u001b[38;5;28mslice\u001b[39m) \u001b[38;5;28;01mfor\u001b[39;00m x \u001b[38;5;129;01min\u001b[39;00m casted_key)\n\u001b[32m   3817\u001b[39m     ):\n\u001b[32m   3818\u001b[39m         \u001b[38;5;28;01mraise\u001b[39;00m InvalidIndexError(key)\n\u001b[32m-> \u001b[39m\u001b[32m3819\u001b[39m     \u001b[38;5;28;01mraise\u001b[39;00m \u001b[38;5;167;01mKeyError\u001b[39;00m(key) \u001b[38;5;28;01mfrom\u001b[39;00m\u001b[38;5;250m \u001b[39m\u001b[34;01merr\u001b[39;00m\n\u001b[32m   3820\u001b[39m \u001b[38;5;28;01mexcept\u001b[39;00m \u001b[38;5;167;01mTypeError\u001b[39;00m:\n\u001b[32m   3821\u001b[39m     \u001b[38;5;66;03m# If we have a listlike key, _check_indexing_error will raise\u001b[39;00m\n\u001b[32m   3822\u001b[39m     \u001b[38;5;66;03m#  InvalidIndexError. Otherwise we fall through and re-raise\u001b[39;00m\n\u001b[32m   3823\u001b[39m     \u001b[38;5;66;03m#  the TypeError.\u001b[39;00m\n\u001b[32m   3824\u001b[39m     \u001b[38;5;28mself\u001b[39m._check_indexing_error(key)\n",
      "\u001b[31mKeyError\u001b[39m: 'horsepower'"
     ]
    }
   ],
   "source": [
    "import pandas as pd\n",
    "import matplotlib.pyplot as plt\n",
    "data = pd.read_csv('auto-mpg.data')\n",
    "\n",
    "data['horsepower'] = pd.to_numeric(data['horsepower'], errors='coerce')\n",
    "data = data.dropna(subset=['horsepower', 'mpg'])\n",
    "\n",
    "\n",
    "\n",
    "# Vẽ scatter plot\n",
    "plt.figure(figsize=(10, 6))\n",
    "plt.scatter(data['horsepower'], data['mpg'], color='blue', alpha=0.5)\n",
    "plt.title('Scatter plot between Horsepower and MPG')\n",
    "plt.xlabel('Horsepower')\n",
    "plt.ylabel('MPG')\n",
    "plt.grid()\n",
    "plt.show()"
   ]
  },
  {
   "cell_type": "markdown",
   "id": "ffc8ed8f",
   "metadata": {},
   "source": [
    "Mối quan hệ phi tuyến: Bạn có thể nhận thấy rằng khi horsepower tăng, mpg có xu hướng giảm. Điều này cho thấy rằng ô tô có công suất động cơ cao (horsepower lớn) thường tiêu tốn nhiều nhiên liệu hơn (mpg thấp).\n",
    "\n",
    "Khuynh hướng giảm: Biểu đồ có thể cho thấy một xu hướng giảm dần, nhưng không phải theo đường thẳng. Điều này gợi ý rằng có thể có một mối quan hệ phi tuyến giữa hai đại lượng này, có thể là hình dạng cong.\n",
    "\n",
    "Ngoại lệ: Một số điểm có thể nằm ngoài xu hướng chung, cho thấy có thể có các yếu tố khác ảnh hưởng đến mpg mà không chỉ đơn thuần là horsepower."
   ]
  },
  {
   "cell_type": "markdown",
   "id": "337caf55",
   "metadata": {},
   "source": [
    "* Chia dữ liệu train/test"
   ]
  },
  {
   "cell_type": "code",
   "execution_count": null,
   "id": "ce4784a5",
   "metadata": {},
   "outputs": [],
   "source": [
    "from sklearn.model_selection import train_test_split\n",
    "\n",
    "# Chia dữ liệu\n",
    "X = data['horsepower'].values.reshape(-1, 1)\n",
    "y = data['mpg'].values\n",
    "\n",
    "X_train, X_temp, y_train, y_temp = train_test_split(X, y, test_size=0.3, random_state=42)  # 70% train\n",
    "X_valid, X_test, y_valid, y_test = train_test_split(X_temp, y_temp, test_size=0.5, random_state=42)  # 15% valid, 15% test"
   ]
  },
  {
   "cell_type": "code",
   "execution_count": null,
   "id": "a32ce980",
   "metadata": {},
   "outputs": [],
   "source": [
    "#Chúng ta sẽ tính toán RMSE cho mỗi mô hình hồi quy đa thức với các bậc từ 1 đến 10 và lưu lại kết quả.\n",
    "\n",
    "from sklearn.preprocessing import PolynomialFeatures\n",
    "from sklearn.linear_model import LinearRegression\n",
    "from sklearn.metrics import mean_squared_error\n",
    "\n",
    "# Khởi tạo danh sách để lưu RMSE\n",
    "train_rmse = []\n",
    "valid_rmse = []\n",
    "\n",
    "# Tính toán RMSE cho các bậc từ 1 đến 10\n",
    "for degree in range(1, 11):\n",
    "    poly = PolynomialFeatures(degree=degree)\n",
    "    X_poly_train = poly.fit_transform(X_train)\n",
    "    X_poly_valid = poly.transform(X_valid)\n",
    "    \n",
    "    model = LinearRegression()\n",
    "    model.fit(X_poly_train, y_train)\n",
    "    \n",
    "    # Dự đoán trên tập train và validation\n",
    "    y_train_pred = model.predict(X_poly_train)\n",
    "    y_valid_pred = model.predict(X_poly_valid)\n",
    "    \n",
    "    # Tính RMSE\n",
    "    rmse_train = mean_squared_error(y_train, y_train_pred, squared=False)\n",
    "    rmse_valid = mean_squared_error(y_valid, y_valid_pred, squared=False)\n",
    "    \n",
    "    train_rmse.append(rmse_train)\n",
    "    valid_rmse.append(rmse_valid)\n",
    "\n",
    "# Hiển thị RMSE\n",
    "for degree in range(1, 11):\n",
    "    print(f'Degree: {degree}, Train RMSE: {train_rmse[degree-1]}, Valid RMSE: {valid_rmse[degree-1]}')"
   ]
  },
  {
   "cell_type": "code",
   "execution_count": null,
   "id": "9667d4c0",
   "metadata": {},
   "outputs": [],
   "source": [
    "#Giả sử rằng bậc tối ưu mà chúng ta tìm thấy là bậc 2 (hoặc bạn có thể chọn bậc khác tùy thuộc vào kết quả RMSE), chúng ta sẽ tiến hành fit mô hình với bậc này và tính toán RMSE cho tập test.\n",
    "\n",
    "# Chọn degree tối ưu (ví dụ: degree = 2)\n",
    "optimal_degree = 2\n",
    "poly = PolynomialFeatures(degree=optimal_degree)\n",
    "X_poly_train = poly.fit_transform(X_train)\n",
    "X_poly_valid = poly.transform(X_valid)\n",
    "X_poly_test = poly.transform(X_test)\n",
    "\n",
    "# Fit mô hình\n",
    "model = LinearRegression()\n",
    "model.fit(X_poly_train, y_train)\n",
    "\n",
    "# Dự đoán\n",
    "y_test_pred = model.predict(X_poly_test)\n",
    "\n",
    "# Tính RMSE cho tập test\n",
    "rmse_test = mean_squared_error(y_test, y_test_pred, squared=False)\n",
    "print(f'Optimal Degree: {optimal_degree}, Test RMSE: {rmse_test}')"
   ]
  }
 ],
 "metadata": {
  "kernelspec": {
   "display_name": "Python 3",
   "language": "python",
   "name": "python3"
  },
  "language_info": {
   "codemirror_mode": {
    "name": "ipython",
    "version": 3
   },
   "file_extension": ".py",
   "mimetype": "text/x-python",
   "name": "python",
   "nbconvert_exporter": "python",
   "pygments_lexer": "ipython3",
   "version": "3.13.5"
  }
 },
 "nbformat": 4,
 "nbformat_minor": 5
}
